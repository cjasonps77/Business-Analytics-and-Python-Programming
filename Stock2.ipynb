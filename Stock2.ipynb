{
 "cells": [
  {
   "cell_type": "markdown",
   "id": "ad46132b-8373-4c56-b2d3-a65dced443b5",
   "metadata": {},
   "source": [
    "Coursework 2 - 13423803"
   ]
  },
  {
   "cell_type": "markdown",
   "id": "8bbbbd5b-962d-4ef0-b504-aafaa2790476",
   "metadata": {},
   "source": [
    "1.\tShow descriptive statistics of the stocks "
   ]
  },
  {
   "cell_type": "code",
   "execution_count": 1,
   "id": "84b2cecb-ae58-4044-9923-cf27eec82547",
   "metadata": {},
   "outputs": [],
   "source": [
    "from pathlib import Path\n",
    "\n",
    "import pandas as pd\n",
    "from sklearn.model_selection import train_test_split\n",
    "from sklearn.metrics import r2_score\n",
    "from sklearn import svm, datasets\n",
    "from sklearn.model_selection import GridSearchCV\n",
    "from sklearn.linear_model import LinearRegression, Lasso, Ridge, LassoCV, BayesianRidge\n",
    "import statsmodels.api as sm\n",
    "import statsmodels.formula.api as sm\n",
    "import matplotlib.pylab as plt\n",
    "\n",
    "%matplotlib inline"
   ]
  },
  {
   "cell_type": "code",
   "execution_count": 2,
   "id": "70469562-4dd2-4f23-8866-4e2014f57795",
   "metadata": {},
   "outputs": [
    {
     "data": {
      "text/html": [
       "<div>\n",
       "<style scoped>\n",
       "    .dataframe tbody tr th:only-of-type {\n",
       "        vertical-align: middle;\n",
       "    }\n",
       "\n",
       "    .dataframe tbody tr th {\n",
       "        vertical-align: top;\n",
       "    }\n",
       "\n",
       "    .dataframe thead th {\n",
       "        text-align: right;\n",
       "    }\n",
       "</style>\n",
       "<table border=\"1\" class=\"dataframe\">\n",
       "  <thead>\n",
       "    <tr style=\"text-align: right;\">\n",
       "      <th></th>\n",
       "      <th>BCS</th>\n",
       "      <th>ULVR</th>\n",
       "      <th>Rf</th>\n",
       "      <th>Rm</th>\n",
       "      <th>SMB</th>\n",
       "      <th>HML</th>\n",
       "      <th>UMD</th>\n",
       "    </tr>\n",
       "    <tr>\n",
       "      <th>Date</th>\n",
       "      <th></th>\n",
       "      <th></th>\n",
       "      <th></th>\n",
       "      <th></th>\n",
       "      <th></th>\n",
       "      <th></th>\n",
       "      <th></th>\n",
       "    </tr>\n",
       "  </thead>\n",
       "  <tbody>\n",
       "    <tr>\n",
       "      <th>2000m12</th>\n",
       "      <td>15.174000</td>\n",
       "      <td>576.348145</td>\n",
       "      <td>NaN</td>\n",
       "      <td>NaN</td>\n",
       "      <td>NaN</td>\n",
       "      <td>NaN</td>\n",
       "      <td>NaN</td>\n",
       "    </tr>\n",
       "    <tr>\n",
       "      <th>2001m1</th>\n",
       "      <td>15.265091</td>\n",
       "      <td>573.459778</td>\n",
       "      <td>0.004468</td>\n",
       "      <td>0.016129</td>\n",
       "      <td>0.037804</td>\n",
       "      <td>0.039162</td>\n",
       "      <td>-0.055891</td>\n",
       "    </tr>\n",
       "    <tr>\n",
       "      <th>2001m10</th>\n",
       "      <td>14.773508</td>\n",
       "      <td>564.751282</td>\n",
       "      <td>0.003364</td>\n",
       "      <td>0.032414</td>\n",
       "      <td>0.057838</td>\n",
       "      <td>0.016091</td>\n",
       "      <td>-0.066847</td>\n",
       "    </tr>\n",
       "    <tr>\n",
       "      <th>2001m11</th>\n",
       "      <td>14.821559</td>\n",
       "      <td>640.503845</td>\n",
       "      <td>0.003088</td>\n",
       "      <td>0.043625</td>\n",
       "      <td>0.059140</td>\n",
       "      <td>0.049173</td>\n",
       "      <td>-0.093423</td>\n",
       "    </tr>\n",
       "    <tr>\n",
       "      <th>2001m12</th>\n",
       "      <td>16.160784</td>\n",
       "      <td>643.305481</td>\n",
       "      <td>0.003138</td>\n",
       "      <td>0.004510</td>\n",
       "      <td>0.011561</td>\n",
       "      <td>-0.006694</td>\n",
       "      <td>0.028714</td>\n",
       "    </tr>\n",
       "    <tr>\n",
       "      <th>...</th>\n",
       "      <td>...</td>\n",
       "      <td>...</td>\n",
       "      <td>...</td>\n",
       "      <td>...</td>\n",
       "      <td>...</td>\n",
       "      <td>...</td>\n",
       "      <td>...</td>\n",
       "    </tr>\n",
       "    <tr>\n",
       "      <th>2017m5</th>\n",
       "      <td>9.496508</td>\n",
       "      <td>3742.147217</td>\n",
       "      <td>0.000050</td>\n",
       "      <td>0.043625</td>\n",
       "      <td>-0.018531</td>\n",
       "      <td>-0.014771</td>\n",
       "      <td>-0.000679</td>\n",
       "    </tr>\n",
       "    <tr>\n",
       "      <th>2017m6</th>\n",
       "      <td>9.337791</td>\n",
       "      <td>3616.798096</td>\n",
       "      <td>0.000108</td>\n",
       "      <td>-0.024690</td>\n",
       "      <td>0.008212</td>\n",
       "      <td>0.014697</td>\n",
       "      <td>0.014046</td>\n",
       "    </tr>\n",
       "    <tr>\n",
       "      <th>2017m7</th>\n",
       "      <td>9.461237</td>\n",
       "      <td>3761.732178</td>\n",
       "      <td>0.000108</td>\n",
       "      <td>0.011668</td>\n",
       "      <td>0.016888</td>\n",
       "      <td>0.046766</td>\n",
       "      <td>0.073621</td>\n",
       "    </tr>\n",
       "    <tr>\n",
       "      <th>2017m8</th>\n",
       "      <td>8.702927</td>\n",
       "      <td>3933.649414</td>\n",
       "      <td>0.000142</td>\n",
       "      <td>0.013896</td>\n",
       "      <td>-0.008357</td>\n",
       "      <td>-0.000554</td>\n",
       "      <td>0.031854</td>\n",
       "    </tr>\n",
       "    <tr>\n",
       "      <th>2017m9</th>\n",
       "      <td>9.170243</td>\n",
       "      <td>3787.569336</td>\n",
       "      <td>0.000183</td>\n",
       "      <td>-0.004291</td>\n",
       "      <td>0.024713</td>\n",
       "      <td>-0.003570</td>\n",
       "      <td>-0.024244</td>\n",
       "    </tr>\n",
       "  </tbody>\n",
       "</table>\n",
       "<p>205 rows × 7 columns</p>\n",
       "</div>"
      ],
      "text/plain": [
       "               BCS         ULVR        Rf        Rm       SMB       HML  \\\n",
       "Date                                                                      \n",
       "2000m12  15.174000   576.348145       NaN       NaN       NaN       NaN   \n",
       "2001m1   15.265091   573.459778  0.004468  0.016129  0.037804  0.039162   \n",
       "2001m10  14.773508   564.751282  0.003364  0.032414  0.057838  0.016091   \n",
       "2001m11  14.821559   640.503845  0.003088  0.043625  0.059140  0.049173   \n",
       "2001m12  16.160784   643.305481  0.003138  0.004510  0.011561 -0.006694   \n",
       "...            ...          ...       ...       ...       ...       ...   \n",
       "2017m5    9.496508  3742.147217  0.000050  0.043625 -0.018531 -0.014771   \n",
       "2017m6    9.337791  3616.798096  0.000108 -0.024690  0.008212  0.014697   \n",
       "2017m7    9.461237  3761.732178  0.000108  0.011668  0.016888  0.046766   \n",
       "2017m8    8.702927  3933.649414  0.000142  0.013896 -0.008357 -0.000554   \n",
       "2017m9    9.170243  3787.569336  0.000183 -0.004291  0.024713 -0.003570   \n",
       "\n",
       "              UMD  \n",
       "Date               \n",
       "2000m12       NaN  \n",
       "2001m1  -0.055891  \n",
       "2001m10 -0.066847  \n",
       "2001m11 -0.093423  \n",
       "2001m12  0.028714  \n",
       "...           ...  \n",
       "2017m5  -0.000679  \n",
       "2017m6   0.014046  \n",
       "2017m7   0.073621  \n",
       "2017m8   0.031854  \n",
       "2017m9  -0.024244  \n",
       "\n",
       "[205 rows x 7 columns]"
      ]
     },
     "execution_count": 2,
     "metadata": {},
     "output_type": "execute_result"
    }
   ],
   "source": [
    "import pandas as pd\n",
    "import numpy as np\n",
    "\n",
    "data = pd.read_csv('Data.csv', index_col='Date')\n",
    "data = data.sort_index(ascending=True)\n",
    "data"
   ]
  },
  {
   "cell_type": "markdown",
   "id": "7ca41063-8f26-457f-991c-abd96672a600",
   "metadata": {},
   "source": [
    "Descriptive Statistics for BCS & ULVR"
   ]
  },
  {
   "cell_type": "code",
   "execution_count": 3,
   "id": "3d672cb7-6975-4c5e-a6c7-344cbc596761",
   "metadata": {},
   "outputs": [
    {
     "data": {
      "text/html": [
       "<div>\n",
       "<style scoped>\n",
       "    .dataframe tbody tr th:only-of-type {\n",
       "        vertical-align: middle;\n",
       "    }\n",
       "\n",
       "    .dataframe tbody tr th {\n",
       "        vertical-align: top;\n",
       "    }\n",
       "\n",
       "    .dataframe thead th {\n",
       "        text-align: right;\n",
       "    }\n",
       "</style>\n",
       "<table border=\"1\" class=\"dataframe\">\n",
       "  <thead>\n",
       "    <tr style=\"text-align: right;\">\n",
       "      <th></th>\n",
       "      <th>BCS</th>\n",
       "      <th>ULVR</th>\n",
       "    </tr>\n",
       "  </thead>\n",
       "  <tbody>\n",
       "    <tr>\n",
       "      <th>count</th>\n",
       "      <td>205.000000</td>\n",
       "      <td>205.000000</td>\n",
       "    </tr>\n",
       "    <tr>\n",
       "      <th>mean</th>\n",
       "      <td>15.782108</td>\n",
       "      <td>1406.469817</td>\n",
       "    </tr>\n",
       "    <tr>\n",
       "      <th>std</th>\n",
       "      <td>7.063559</td>\n",
       "      <td>849.919689</td>\n",
       "    </tr>\n",
       "    <tr>\n",
       "      <th>min</th>\n",
       "      <td>3.504107</td>\n",
       "      <td>554.526550</td>\n",
       "    </tr>\n",
       "    <tr>\n",
       "      <th>25%</th>\n",
       "      <td>11.466057</td>\n",
       "      <td>696.267639</td>\n",
       "    </tr>\n",
       "    <tr>\n",
       "      <th>50%</th>\n",
       "      <td>13.961012</td>\n",
       "      <td>1099.918091</td>\n",
       "    </tr>\n",
       "    <tr>\n",
       "      <th>75%</th>\n",
       "      <td>19.119701</td>\n",
       "      <td>1973.155518</td>\n",
       "    </tr>\n",
       "    <tr>\n",
       "      <th>max</th>\n",
       "      <td>35.634449</td>\n",
       "      <td>3933.649414</td>\n",
       "    </tr>\n",
       "  </tbody>\n",
       "</table>\n",
       "</div>"
      ],
      "text/plain": [
       "              BCS         ULVR\n",
       "count  205.000000   205.000000\n",
       "mean    15.782108  1406.469817\n",
       "std      7.063559   849.919689\n",
       "min      3.504107   554.526550\n",
       "25%     11.466057   696.267639\n",
       "50%     13.961012  1099.918091\n",
       "75%     19.119701  1973.155518\n",
       "max     35.634449  3933.649414"
      ]
     },
     "execution_count": 3,
     "metadata": {},
     "output_type": "execute_result"
    }
   ],
   "source": [
    "data[['BCS', 'ULVR']].describe()"
   ]
  },
  {
   "cell_type": "markdown",
   "id": "8c691688-58a3-442d-92ae-8ca91731b8ad",
   "metadata": {},
   "source": [
    "2.\tCalculate daily stocks’ interest returns \n",
    "3.\tBuild a dataframe of return interests of two stocks with Rf, Rm, SML, HML, UMD. "
   ]
  },
  {
   "cell_type": "code",
   "execution_count": 4,
   "id": "deedb7bd-d4e1-4e36-9acd-4df200f04862",
   "metadata": {},
   "outputs": [
    {
     "data": {
      "text/html": [
       "<div>\n",
       "<style scoped>\n",
       "    .dataframe tbody tr th:only-of-type {\n",
       "        vertical-align: middle;\n",
       "    }\n",
       "\n",
       "    .dataframe tbody tr th {\n",
       "        vertical-align: top;\n",
       "    }\n",
       "\n",
       "    .dataframe thead th {\n",
       "        text-align: right;\n",
       "    }\n",
       "</style>\n",
       "<table border=\"1\" class=\"dataframe\">\n",
       "  <thead>\n",
       "    <tr style=\"text-align: right;\">\n",
       "      <th></th>\n",
       "      <th>BCS</th>\n",
       "      <th>ULVR</th>\n",
       "      <th>Rf</th>\n",
       "      <th>Rm</th>\n",
       "      <th>SMB</th>\n",
       "      <th>HML</th>\n",
       "      <th>UMD</th>\n",
       "    </tr>\n",
       "    <tr>\n",
       "      <th>Date</th>\n",
       "      <th></th>\n",
       "      <th></th>\n",
       "      <th></th>\n",
       "      <th></th>\n",
       "      <th></th>\n",
       "      <th></th>\n",
       "      <th></th>\n",
       "    </tr>\n",
       "  </thead>\n",
       "  <tbody>\n",
       "    <tr>\n",
       "      <th>2001m1</th>\n",
       "      <td>0.006003</td>\n",
       "      <td>-0.005011</td>\n",
       "      <td>0.004468</td>\n",
       "      <td>0.016129</td>\n",
       "      <td>0.037804</td>\n",
       "      <td>0.039162</td>\n",
       "      <td>-0.055891</td>\n",
       "    </tr>\n",
       "    <tr>\n",
       "      <th>2001m10</th>\n",
       "      <td>-0.032203</td>\n",
       "      <td>-0.015186</td>\n",
       "      <td>0.003364</td>\n",
       "      <td>0.032414</td>\n",
       "      <td>0.057838</td>\n",
       "      <td>0.016091</td>\n",
       "      <td>-0.066847</td>\n",
       "    </tr>\n",
       "    <tr>\n",
       "      <th>2001m11</th>\n",
       "      <td>0.003253</td>\n",
       "      <td>0.134134</td>\n",
       "      <td>0.003088</td>\n",
       "      <td>0.043625</td>\n",
       "      <td>0.059140</td>\n",
       "      <td>0.049173</td>\n",
       "      <td>-0.093423</td>\n",
       "    </tr>\n",
       "    <tr>\n",
       "      <th>2001m12</th>\n",
       "      <td>0.090357</td>\n",
       "      <td>0.004374</td>\n",
       "      <td>0.003138</td>\n",
       "      <td>0.004510</td>\n",
       "      <td>0.011561</td>\n",
       "      <td>-0.006694</td>\n",
       "      <td>0.028714</td>\n",
       "    </tr>\n",
       "    <tr>\n",
       "      <th>2001m2</th>\n",
       "      <td>-0.111666</td>\n",
       "      <td>-0.106845</td>\n",
       "      <td>0.004385</td>\n",
       "      <td>-0.050766</td>\n",
       "      <td>0.025866</td>\n",
       "      <td>0.038198</td>\n",
       "      <td>0.132797</td>\n",
       "    </tr>\n",
       "    <tr>\n",
       "      <th>...</th>\n",
       "      <td>...</td>\n",
       "      <td>...</td>\n",
       "      <td>...</td>\n",
       "      <td>...</td>\n",
       "      <td>...</td>\n",
       "      <td>...</td>\n",
       "      <td>...</td>\n",
       "    </tr>\n",
       "    <tr>\n",
       "      <th>2017m5</th>\n",
       "      <td>-0.003700</td>\n",
       "      <td>0.090508</td>\n",
       "      <td>0.000050</td>\n",
       "      <td>0.043625</td>\n",
       "      <td>-0.018531</td>\n",
       "      <td>-0.014771</td>\n",
       "      <td>-0.000679</td>\n",
       "    </tr>\n",
       "    <tr>\n",
       "      <th>2017m6</th>\n",
       "      <td>-0.016713</td>\n",
       "      <td>-0.033497</td>\n",
       "      <td>0.000108</td>\n",
       "      <td>-0.024690</td>\n",
       "      <td>0.008212</td>\n",
       "      <td>0.014697</td>\n",
       "      <td>0.014046</td>\n",
       "    </tr>\n",
       "    <tr>\n",
       "      <th>2017m7</th>\n",
       "      <td>0.013220</td>\n",
       "      <td>0.040072</td>\n",
       "      <td>0.000108</td>\n",
       "      <td>0.011668</td>\n",
       "      <td>0.016888</td>\n",
       "      <td>0.046766</td>\n",
       "      <td>0.073621</td>\n",
       "    </tr>\n",
       "    <tr>\n",
       "      <th>2017m8</th>\n",
       "      <td>-0.080149</td>\n",
       "      <td>0.045702</td>\n",
       "      <td>0.000142</td>\n",
       "      <td>0.013896</td>\n",
       "      <td>-0.008357</td>\n",
       "      <td>-0.000554</td>\n",
       "      <td>0.031854</td>\n",
       "    </tr>\n",
       "    <tr>\n",
       "      <th>2017m9</th>\n",
       "      <td>0.053696</td>\n",
       "      <td>-0.037136</td>\n",
       "      <td>0.000183</td>\n",
       "      <td>-0.004291</td>\n",
       "      <td>0.024713</td>\n",
       "      <td>-0.003570</td>\n",
       "      <td>-0.024244</td>\n",
       "    </tr>\n",
       "  </tbody>\n",
       "</table>\n",
       "<p>204 rows × 7 columns</p>\n",
       "</div>"
      ],
      "text/plain": [
       "              BCS      ULVR        Rf        Rm       SMB       HML       UMD\n",
       "Date                                                                         \n",
       "2001m1   0.006003 -0.005011  0.004468  0.016129  0.037804  0.039162 -0.055891\n",
       "2001m10 -0.032203 -0.015186  0.003364  0.032414  0.057838  0.016091 -0.066847\n",
       "2001m11  0.003253  0.134134  0.003088  0.043625  0.059140  0.049173 -0.093423\n",
       "2001m12  0.090357  0.004374  0.003138  0.004510  0.011561 -0.006694  0.028714\n",
       "2001m2  -0.111666 -0.106845  0.004385 -0.050766  0.025866  0.038198  0.132797\n",
       "...           ...       ...       ...       ...       ...       ...       ...\n",
       "2017m5  -0.003700  0.090508  0.000050  0.043625 -0.018531 -0.014771 -0.000679\n",
       "2017m6  -0.016713 -0.033497  0.000108 -0.024690  0.008212  0.014697  0.014046\n",
       "2017m7   0.013220  0.040072  0.000108  0.011668  0.016888  0.046766  0.073621\n",
       "2017m8  -0.080149  0.045702  0.000142  0.013896 -0.008357 -0.000554  0.031854\n",
       "2017m9   0.053696 -0.037136  0.000183 -0.004291  0.024713 -0.003570 -0.024244\n",
       "\n",
       "[204 rows x 7 columns]"
      ]
     },
     "execution_count": 4,
     "metadata": {},
     "output_type": "execute_result"
    }
   ],
   "source": [
    "data[['BCS', 'ULVR']] = data[['BCS', 'ULVR']].pct_change()\n",
    "data = data.dropna()\n",
    "data"
   ]
  },
  {
   "cell_type": "markdown",
   "id": "37df9f9e-d2fb-4559-a333-7fdaa232ac86",
   "metadata": {},
   "source": [
    "Adding new data for BRP, URP, and MP"
   ]
  },
  {
   "cell_type": "code",
   "execution_count": 5,
   "id": "8979f749-965b-46bd-b909-4c06fca351f7",
   "metadata": {},
   "outputs": [
    {
     "name": "stderr",
     "output_type": "stream",
     "text": [
      "C:\\Users\\user\\AppData\\Local\\Temp\\ipykernel_3988\\604869514.py:1: SettingWithCopyWarning: \n",
      "A value is trying to be set on a copy of a slice from a DataFrame.\n",
      "Try using .loc[row_indexer,col_indexer] = value instead\n",
      "\n",
      "See the caveats in the documentation: https://pandas.pydata.org/pandas-docs/stable/user_guide/indexing.html#returning-a-view-versus-a-copy\n",
      "  data[\"BRP\"] = data.loc[:, ('BCS')] - data.loc[:, ('Rf')] # BRP is BCS risk premium (BCS Return - Rf)\n",
      "C:\\Users\\user\\AppData\\Local\\Temp\\ipykernel_3988\\604869514.py:2: SettingWithCopyWarning: \n",
      "A value is trying to be set on a copy of a slice from a DataFrame.\n",
      "Try using .loc[row_indexer,col_indexer] = value instead\n",
      "\n",
      "See the caveats in the documentation: https://pandas.pydata.org/pandas-docs/stable/user_guide/indexing.html#returning-a-view-versus-a-copy\n",
      "  data[\"URP\"] = data.loc[:, ('ULVR')] - data.loc[:, ('Rf')] # URP is ULVR risk premium (ULVR Return - Rf)\n",
      "C:\\Users\\user\\AppData\\Local\\Temp\\ipykernel_3988\\604869514.py:3: SettingWithCopyWarning: \n",
      "A value is trying to be set on a copy of a slice from a DataFrame.\n",
      "Try using .loc[row_indexer,col_indexer] = value instead\n",
      "\n",
      "See the caveats in the documentation: https://pandas.pydata.org/pandas-docs/stable/user_guide/indexing.html#returning-a-view-versus-a-copy\n",
      "  data[\"MP\"] = data.loc[:, ('Rm')] - data.loc[:, ('Rf')] # MP is Market Premium (Rm - Rf)\n"
     ]
    },
    {
     "data": {
      "text/html": [
       "<div>\n",
       "<style scoped>\n",
       "    .dataframe tbody tr th:only-of-type {\n",
       "        vertical-align: middle;\n",
       "    }\n",
       "\n",
       "    .dataframe tbody tr th {\n",
       "        vertical-align: top;\n",
       "    }\n",
       "\n",
       "    .dataframe thead th {\n",
       "        text-align: right;\n",
       "    }\n",
       "</style>\n",
       "<table border=\"1\" class=\"dataframe\">\n",
       "  <thead>\n",
       "    <tr style=\"text-align: right;\">\n",
       "      <th></th>\n",
       "      <th>BCS</th>\n",
       "      <th>ULVR</th>\n",
       "      <th>Rf</th>\n",
       "      <th>Rm</th>\n",
       "      <th>SMB</th>\n",
       "      <th>HML</th>\n",
       "      <th>UMD</th>\n",
       "      <th>BRP</th>\n",
       "      <th>URP</th>\n",
       "      <th>MP</th>\n",
       "    </tr>\n",
       "    <tr>\n",
       "      <th>Date</th>\n",
       "      <th></th>\n",
       "      <th></th>\n",
       "      <th></th>\n",
       "      <th></th>\n",
       "      <th></th>\n",
       "      <th></th>\n",
       "      <th></th>\n",
       "      <th></th>\n",
       "      <th></th>\n",
       "      <th></th>\n",
       "    </tr>\n",
       "  </thead>\n",
       "  <tbody>\n",
       "    <tr>\n",
       "      <th>2001m1</th>\n",
       "      <td>0.006003</td>\n",
       "      <td>-0.005011</td>\n",
       "      <td>0.004468</td>\n",
       "      <td>0.016129</td>\n",
       "      <td>0.037804</td>\n",
       "      <td>0.039162</td>\n",
       "      <td>-0.055891</td>\n",
       "      <td>0.001535</td>\n",
       "      <td>-0.009480</td>\n",
       "      <td>0.011660</td>\n",
       "    </tr>\n",
       "    <tr>\n",
       "      <th>2001m10</th>\n",
       "      <td>-0.032203</td>\n",
       "      <td>-0.015186</td>\n",
       "      <td>0.003364</td>\n",
       "      <td>0.032414</td>\n",
       "      <td>0.057838</td>\n",
       "      <td>0.016091</td>\n",
       "      <td>-0.066847</td>\n",
       "      <td>-0.035567</td>\n",
       "      <td>-0.018550</td>\n",
       "      <td>0.029050</td>\n",
       "    </tr>\n",
       "    <tr>\n",
       "      <th>2001m11</th>\n",
       "      <td>0.003253</td>\n",
       "      <td>0.134134</td>\n",
       "      <td>0.003088</td>\n",
       "      <td>0.043625</td>\n",
       "      <td>0.059140</td>\n",
       "      <td>0.049173</td>\n",
       "      <td>-0.093423</td>\n",
       "      <td>0.000164</td>\n",
       "      <td>0.131046</td>\n",
       "      <td>0.040537</td>\n",
       "    </tr>\n",
       "    <tr>\n",
       "      <th>2001m12</th>\n",
       "      <td>0.090357</td>\n",
       "      <td>0.004374</td>\n",
       "      <td>0.003138</td>\n",
       "      <td>0.004510</td>\n",
       "      <td>0.011561</td>\n",
       "      <td>-0.006694</td>\n",
       "      <td>0.028714</td>\n",
       "      <td>0.087218</td>\n",
       "      <td>0.001236</td>\n",
       "      <td>0.001372</td>\n",
       "    </tr>\n",
       "    <tr>\n",
       "      <th>2001m2</th>\n",
       "      <td>-0.111666</td>\n",
       "      <td>-0.106845</td>\n",
       "      <td>0.004385</td>\n",
       "      <td>-0.050766</td>\n",
       "      <td>0.025866</td>\n",
       "      <td>0.038198</td>\n",
       "      <td>0.132797</td>\n",
       "      <td>-0.116050</td>\n",
       "      <td>-0.111230</td>\n",
       "      <td>-0.055151</td>\n",
       "    </tr>\n",
       "    <tr>\n",
       "      <th>...</th>\n",
       "      <td>...</td>\n",
       "      <td>...</td>\n",
       "      <td>...</td>\n",
       "      <td>...</td>\n",
       "      <td>...</td>\n",
       "      <td>...</td>\n",
       "      <td>...</td>\n",
       "      <td>...</td>\n",
       "      <td>...</td>\n",
       "      <td>...</td>\n",
       "    </tr>\n",
       "    <tr>\n",
       "      <th>2017m5</th>\n",
       "      <td>-0.003700</td>\n",
       "      <td>0.090508</td>\n",
       "      <td>0.000050</td>\n",
       "      <td>0.043625</td>\n",
       "      <td>-0.018531</td>\n",
       "      <td>-0.014771</td>\n",
       "      <td>-0.000679</td>\n",
       "      <td>-0.003750</td>\n",
       "      <td>0.090458</td>\n",
       "      <td>0.043575</td>\n",
       "    </tr>\n",
       "    <tr>\n",
       "      <th>2017m6</th>\n",
       "      <td>-0.016713</td>\n",
       "      <td>-0.033497</td>\n",
       "      <td>0.000108</td>\n",
       "      <td>-0.024690</td>\n",
       "      <td>0.008212</td>\n",
       "      <td>0.014697</td>\n",
       "      <td>0.014046</td>\n",
       "      <td>-0.016822</td>\n",
       "      <td>-0.033605</td>\n",
       "      <td>-0.024798</td>\n",
       "    </tr>\n",
       "    <tr>\n",
       "      <th>2017m7</th>\n",
       "      <td>0.013220</td>\n",
       "      <td>0.040072</td>\n",
       "      <td>0.000108</td>\n",
       "      <td>0.011668</td>\n",
       "      <td>0.016888</td>\n",
       "      <td>0.046766</td>\n",
       "      <td>0.073621</td>\n",
       "      <td>0.013112</td>\n",
       "      <td>0.039964</td>\n",
       "      <td>0.011559</td>\n",
       "    </tr>\n",
       "    <tr>\n",
       "      <th>2017m8</th>\n",
       "      <td>-0.080149</td>\n",
       "      <td>0.045702</td>\n",
       "      <td>0.000142</td>\n",
       "      <td>0.013896</td>\n",
       "      <td>-0.008357</td>\n",
       "      <td>-0.000554</td>\n",
       "      <td>0.031854</td>\n",
       "      <td>-0.080291</td>\n",
       "      <td>0.045560</td>\n",
       "      <td>0.013754</td>\n",
       "    </tr>\n",
       "    <tr>\n",
       "      <th>2017m9</th>\n",
       "      <td>0.053696</td>\n",
       "      <td>-0.037136</td>\n",
       "      <td>0.000183</td>\n",
       "      <td>-0.004291</td>\n",
       "      <td>0.024713</td>\n",
       "      <td>-0.003570</td>\n",
       "      <td>-0.024244</td>\n",
       "      <td>0.053513</td>\n",
       "      <td>-0.037319</td>\n",
       "      <td>-0.004474</td>\n",
       "    </tr>\n",
       "  </tbody>\n",
       "</table>\n",
       "<p>204 rows × 10 columns</p>\n",
       "</div>"
      ],
      "text/plain": [
       "              BCS      ULVR        Rf        Rm       SMB       HML       UMD  \\\n",
       "Date                                                                            \n",
       "2001m1   0.006003 -0.005011  0.004468  0.016129  0.037804  0.039162 -0.055891   \n",
       "2001m10 -0.032203 -0.015186  0.003364  0.032414  0.057838  0.016091 -0.066847   \n",
       "2001m11  0.003253  0.134134  0.003088  0.043625  0.059140  0.049173 -0.093423   \n",
       "2001m12  0.090357  0.004374  0.003138  0.004510  0.011561 -0.006694  0.028714   \n",
       "2001m2  -0.111666 -0.106845  0.004385 -0.050766  0.025866  0.038198  0.132797   \n",
       "...           ...       ...       ...       ...       ...       ...       ...   \n",
       "2017m5  -0.003700  0.090508  0.000050  0.043625 -0.018531 -0.014771 -0.000679   \n",
       "2017m6  -0.016713 -0.033497  0.000108 -0.024690  0.008212  0.014697  0.014046   \n",
       "2017m7   0.013220  0.040072  0.000108  0.011668  0.016888  0.046766  0.073621   \n",
       "2017m8  -0.080149  0.045702  0.000142  0.013896 -0.008357 -0.000554  0.031854   \n",
       "2017m9   0.053696 -0.037136  0.000183 -0.004291  0.024713 -0.003570 -0.024244   \n",
       "\n",
       "              BRP       URP        MP  \n",
       "Date                                   \n",
       "2001m1   0.001535 -0.009480  0.011660  \n",
       "2001m10 -0.035567 -0.018550  0.029050  \n",
       "2001m11  0.000164  0.131046  0.040537  \n",
       "2001m12  0.087218  0.001236  0.001372  \n",
       "2001m2  -0.116050 -0.111230 -0.055151  \n",
       "...           ...       ...       ...  \n",
       "2017m5  -0.003750  0.090458  0.043575  \n",
       "2017m6  -0.016822 -0.033605 -0.024798  \n",
       "2017m7   0.013112  0.039964  0.011559  \n",
       "2017m8  -0.080291  0.045560  0.013754  \n",
       "2017m9   0.053513 -0.037319 -0.004474  \n",
       "\n",
       "[204 rows x 10 columns]"
      ]
     },
     "execution_count": 5,
     "metadata": {},
     "output_type": "execute_result"
    }
   ],
   "source": [
    "data[\"BRP\"] = data.loc[:, ('BCS')] - data.loc[:, ('Rf')] # BRP is BCS risk premium (BCS Return - Rf)\n",
    "data[\"URP\"] = data.loc[:, ('ULVR')] - data.loc[:, ('Rf')] # URP is ULVR risk premium (ULVR Return - Rf)\n",
    "data[\"MP\"] = data.loc[:, ('Rm')] - data.loc[:, ('Rf')] # MP is Market Premium (Rm - Rf)\n",
    "data"
   ]
  },
  {
   "cell_type": "markdown",
   "id": "59a72078-a49b-461a-b785-2bd3eaaf9af7",
   "metadata": {},
   "source": [
    "4.\tRun CAPM model for BCS and ULVR"
   ]
  },
  {
   "cell_type": "markdown",
   "id": "aaa94453-7cf9-414c-8f19-5291b41c3b43",
   "metadata": {},
   "source": [
    "BCS with CAPM Model"
   ]
  },
  {
   "cell_type": "code",
   "execution_count": 6,
   "id": "8c5700ba-9544-4b84-bd5a-06891c45c645",
   "metadata": {},
   "outputs": [],
   "source": [
    "# Selecting the variables for regression analysis\n",
    "predictors = ['MP']\n",
    "outcome = 'BRP'"
   ]
  },
  {
   "cell_type": "code",
   "execution_count": 7,
   "id": "62635ba4-c6ad-43de-b6e3-bd5363ed940f",
   "metadata": {},
   "outputs": [],
   "source": [
    "# Splitting the data\n",
    "X = pd.get_dummies(data[predictors], drop_first=True)\n",
    "y = data[outcome]\n",
    "train_X, valid_X, train_y, valid_y = train_test_split(X, y, test_size=0.4, random_state=1)"
   ]
  },
  {
   "cell_type": "code",
   "execution_count": 8,
   "id": "f838ee1f-a0e1-4461-88da-f78dc9686d17",
   "metadata": {},
   "outputs": [
    {
     "data": {
      "text/plain": [
       "LinearRegression()"
      ]
     },
     "execution_count": 8,
     "metadata": {},
     "output_type": "execute_result"
    }
   ],
   "source": [
    "# Fitting the data for regression\n",
    "returnbcs = LinearRegression()\n",
    "returnbcs.fit(train_X, train_y)"
   ]
  },
  {
   "cell_type": "code",
   "execution_count": 9,
   "id": "f845402d-c9a0-485d-9c4a-7c1d6a1c4bb9",
   "metadata": {},
   "outputs": [
    {
     "name": "stdout",
     "output_type": "stream",
     "text": [
      "intercept  0.036687816460943004\n",
      "  Predictor  coefficient\n",
      "0        MP      1.85606\n"
     ]
    }
   ],
   "source": [
    "# Printing the coefficients\n",
    "print('intercept ', returnbcs.intercept_)\n",
    "print(pd.DataFrame({'Predictor': X.columns, 'coefficient': returnbcs.coef_}))"
   ]
  },
  {
   "cell_type": "code",
   "execution_count": 10,
   "id": "628fda87-48a1-4fad-b438-5e90a960b594",
   "metadata": {},
   "outputs": [
    {
     "name": "stdout",
     "output_type": "stream",
     "text": [
      "R2 :  0.03784201942962018\n"
     ]
    }
   ],
   "source": [
    "# Printing the performance measures\n",
    "pred_y = returnbcs.predict(train_X)\n",
    "print('R2 : ',r2_score(train_y,pred_y))"
   ]
  },
  {
   "cell_type": "code",
   "execution_count": 11,
   "id": "794c388c-3dbd-4644-8fc4-b7c97bf90bc5",
   "metadata": {},
   "outputs": [
    {
     "name": "stdout",
     "output_type": "stream",
     "text": [
      "                            OLS Regression Results                            \n",
      "==============================================================================\n",
      "Dep. Variable:                    BRP   R-squared:                       0.038\n",
      "Model:                            OLS   Adj. R-squared:                  0.030\n",
      "Method:                 Least Squares   F-statistic:                     4.720\n",
      "Date:                Mon, 10 Apr 2023   Prob (F-statistic):             0.0318\n",
      "Time:                        23:38:16   Log-Likelihood:                -51.016\n",
      "No. Observations:                 122   AIC:                             106.0\n",
      "Df Residuals:                     120   BIC:                             111.6\n",
      "Df Model:                           1                                         \n",
      "Covariance Type:            nonrobust                                         \n",
      "==============================================================================\n",
      "                 coef    std err          t      P>|t|      [0.025      0.975]\n",
      "------------------------------------------------------------------------------\n",
      "const          0.0367      0.034      1.093      0.277      -0.030       0.103\n",
      "MP             1.8561      0.854      2.172      0.032       0.165       3.548\n",
      "==============================================================================\n",
      "Omnibus:                      173.203   Durbin-Watson:                   1.954\n",
      "Prob(Omnibus):                  0.000   Jarque-Bera (JB):             7351.696\n",
      "Skew:                           5.480   Prob(JB):                         0.00\n",
      "Kurtosis:                      39.416   Cond. No.                         25.5\n",
      "==============================================================================\n",
      "\n",
      "Notes:\n",
      "[1] Standard Errors assume that the covariance matrix of the errors is correctly specified.\n"
     ]
    }
   ],
   "source": [
    "import statsmodels.api as sm\n",
    "\n",
    "#second way to create linear regression\n",
    "#add constant to predictor variables\n",
    "train_X1 = sm.add_constant(train_X)\n",
    "\n",
    "#fit linear regression model\n",
    "returnbcs1 = sm.OLS(train_y, train_X1).fit()\n",
    "\n",
    "#view model summary\n",
    "print(returnbcs1.summary())"
   ]
  },
  {
   "cell_type": "code",
   "execution_count": 12,
   "id": "80246ead-9dbe-40aa-ac0d-9308f8721d78",
   "metadata": {},
   "outputs": [
    {
     "name": "stdout",
     "output_type": "stream",
     "text": [
      "         Predicted    Actual  Residual\n",
      "Date                                  \n",
      "2011m5    0.022568 -0.035079 -0.057647\n",
      "2017m9    0.028384  0.053513  0.025129\n",
      "2002m4    0.001733  0.154362  0.152629\n",
      "2015m5    0.061015  0.049807 -0.011208\n",
      "2017m2    0.094315  0.012516 -0.081798\n",
      "2003m5    0.112857  0.026826 -0.086031\n",
      "2003m2    0.080121 -0.401631 -0.481752\n",
      "2004m2    0.083654 -0.229931 -0.313586\n",
      "2008m9   -0.215849 -0.005841  0.210008\n",
      "2004m11   0.074166  0.050948 -0.023218\n",
      "adjusted r2 :  0.0889653484485764\n"
     ]
    }
   ],
   "source": [
    "# Predicting the data \n",
    "returnbcs2 = returnbcs.predict(valid_X)\n",
    "\n",
    "result = pd.DataFrame({'Predicted': returnbcs2, 'Actual': valid_y,\n",
    "                       'Residual': valid_y - returnbcs2})\n",
    "print(result.head(10))\n",
    "print('adjusted r2 : ',r2_score(valid_y,returnbcs2))"
   ]
  },
  {
   "cell_type": "code",
   "execution_count": 13,
   "id": "f7e859b1-7b10-49e2-b940-d6c602bfae25",
   "metadata": {},
   "outputs": [
    {
     "name": "stdout",
     "output_type": "stream",
     "text": [
      "1.0\n"
     ]
    },
    {
     "data": {
      "image/png": "[encoded data removed]",
      "text/plain": [
       "<Figure size 432x288 with 1 Axes>"
      ]
     },
     "metadata": {
      "needs_background": "light"
     },
     "output_type": "display_data"
    }
   ],
   "source": [
    "# Calculating the residuals\n",
    "all_residuals = valid_y - returnbcs2\n",
    "print(len(all_residuals[(all_residuals > -1445) & (all_residuals < 1445)]) / len(all_residuals))\n",
    "ax = pd.DataFrame({'Residuals': all_residuals}).hist(bins=25)\n",
    "plt.tight_layout()\n",
    "plt.show()"
   ]
  },
  {
   "cell_type": "markdown",
   "id": "42b6cab9-d001-4d94-b005-3f945a28015d",
   "metadata": {},
   "source": [
    "ULVR with CAPM Model"
   ]
  },
  {
   "cell_type": "code",
   "execution_count": 14,
   "id": "77aa5ee4-edba-48ef-9dc2-294edddf8109",
   "metadata": {},
   "outputs": [],
   "source": [
    "# Selecting the variables for regression analysis\n",
    "predictors = ['MP']\n",
    "outcome = 'URP'"
   ]
  },
  {
   "cell_type": "code",
   "execution_count": 15,
   "id": "a7202d54-97da-463f-8ccf-c441645f9da9",
   "metadata": {},
   "outputs": [],
   "source": [
    "# Splitting the data\n",
    "X = pd.get_dummies(data[predictors], drop_first=True)\n",
    "y = data[outcome]\n",
    "train_X, valid_X, train_y, valid_y = train_test_split(X, y, test_size=0.4, random_state=1)"
   ]
  },
  {
   "cell_type": "code",
   "execution_count": 16,
   "id": "5aa0d171-1679-4c17-b5e3-234480546d2d",
   "metadata": {},
   "outputs": [
    {
     "data": {
      "text/plain": [
       "LinearRegression()"
      ]
     },
     "execution_count": 16,
     "metadata": {},
     "output_type": "execute_result"
    }
   ],
   "source": [
    "# Fitting the data for regression\n",
    "returnulvr = LinearRegression()\n",
    "returnulvr.fit(train_X, train_y)"
   ]
  },
  {
   "cell_type": "code",
   "execution_count": 17,
   "id": "b1cc732c-cd62-44fd-aa4b-1eb7518ce3e5",
   "metadata": {},
   "outputs": [
    {
     "name": "stdout",
     "output_type": "stream",
     "text": [
      "intercept  0.008239702107775903\n",
      "  Predictor  coefficient\n",
      "0        MP     0.777069\n"
     ]
    }
   ],
   "source": [
    "# Printing the coefficients\n",
    "print('intercept ', returnulvr.intercept_)\n",
    "print(pd.DataFrame({'Predictor': X.columns, 'coefficient': returnulvr.coef_}))"
   ]
  },
  {
   "cell_type": "code",
   "execution_count": 18,
   "id": "1457210f-2220-4600-8cee-a82d49a44442",
   "metadata": {},
   "outputs": [
    {
     "name": "stdout",
     "output_type": "stream",
     "text": [
      "R2 :  0.12223931056840243\n"
     ]
    }
   ],
   "source": [
    "# Printing the performance measures\n",
    "pred_y = returnulvr.predict(train_X)\n",
    "print('R2 : ',r2_score(train_y,pred_y))"
   ]
  },
  {
   "cell_type": "code",
   "execution_count": 19,
   "id": "386d4a18-f970-4aba-8c20-aa42245d2d0b",
   "metadata": {},
   "outputs": [
    {
     "name": "stdout",
     "output_type": "stream",
     "text": [
      "                            OLS Regression Results                            \n",
      "==============================================================================\n",
      "Dep. Variable:                    URP   R-squared:                       0.122\n",
      "Model:                            OLS   Adj. R-squared:                  0.115\n",
      "Method:                 Least Squares   F-statistic:                     16.71\n",
      "Date:                Mon, 10 Apr 2023   Prob (F-statistic):           7.90e-05\n",
      "Time:                        23:38:17   Log-Likelihood:                 132.33\n",
      "No. Observations:                 122   AIC:                            -260.7\n",
      "Df Residuals:                     120   BIC:                            -255.1\n",
      "Df Model:                           1                                         \n",
      "Covariance Type:            nonrobust                                         \n",
      "==============================================================================\n",
      "                 coef    std err          t      P>|t|      [0.025      0.975]\n",
      "------------------------------------------------------------------------------\n",
      "const          0.0082      0.007      1.103      0.272      -0.007       0.023\n",
      "MP             0.7771      0.190      4.088      0.000       0.401       1.153\n",
      "==============================================================================\n",
      "Omnibus:                       20.553   Durbin-Watson:                   1.923\n",
      "Prob(Omnibus):                  0.000   Jarque-Bera (JB):              101.207\n",
      "Skew:                          -0.240   Prob(JB):                     1.05e-22\n",
      "Kurtosis:                       7.436   Cond. No.                         25.5\n",
      "==============================================================================\n",
      "\n",
      "Notes:\n",
      "[1] Standard Errors assume that the covariance matrix of the errors is correctly specified.\n"
     ]
    }
   ],
   "source": [
    "import statsmodels.api as sm\n",
    "\n",
    "#second way to create linear regression\n",
    "#add constant to predictor variables\n",
    "train_X1 = sm.add_constant(train_X)\n",
    "\n",
    "#fit linear regression model\n",
    "returnulvr1 = sm.OLS(train_y, train_X1).fit()\n",
    "\n",
    "#view model summary\n",
    "print(returnulvr1.summary())"
   ]
  },
  {
   "cell_type": "code",
   "execution_count": 20,
   "id": "3dd08f06-2d20-4aa8-88e8-82d299983fba",
   "metadata": {},
   "outputs": [
    {
     "name": "stdout",
     "output_type": "stream",
     "text": [
      "         Predicted    Actual  Residual\n",
      "Date                                  \n",
      "2011m5    0.002328  0.014500  0.012171\n",
      "2017m9    0.004763 -0.037319 -0.042082\n",
      "2002m4   -0.006395  0.114182  0.120576\n",
      "2015m5    0.018425  0.014355 -0.004070\n",
      "2017m2    0.032366 -0.102425 -0.134791\n",
      "2003m5    0.040129 -0.118243 -0.158372\n",
      "2003m2    0.026424  0.050894  0.024470\n",
      "2004m2    0.027903  0.056988  0.029085\n",
      "2008m9   -0.097489  0.026785  0.124274\n",
      "2004m11   0.023931  0.039782  0.015852\n",
      "adjusted r2 :  -0.08054655523579735\n"
     ]
    }
   ],
   "source": [
    "# Predicting the data\n",
    "returnulvr2 = returnulvr.predict(valid_X)\n",
    "\n",
    "result = pd.DataFrame({'Predicted': returnulvr2, 'Actual': valid_y,\n",
    "                       'Residual': valid_y - returnulvr2})\n",
    "print(result.head(10))\n",
    "print('adjusted r2 : ',r2_score(valid_y,returnulvr2))"
   ]
  },
  {
   "cell_type": "code",
   "execution_count": 21,
   "id": "c7f8edb3-539c-4e54-bae9-e360278395fa",
   "metadata": {},
   "outputs": [
    {
     "name": "stdout",
     "output_type": "stream",
     "text": [
      "1.0\n"
     ]
    },
    {
     "data": {
      "image/png": "[encoded data removed]",
      "text/plain": [
       "<Figure size 432x288 with 1 Axes>"
      ]
     },
     "metadata": {
      "needs_background": "light"
     },
     "output_type": "display_data"
    }
   ],
   "source": [
    "# Calculating the residuals\n",
    "all_residuals = valid_y - returnulvr2\n",
    "print(len(all_residuals[(all_residuals > -1445) & (all_residuals < 1445)]) / len(all_residuals))\n",
    "ax = pd.DataFrame({'Residuals': all_residuals}).hist(bins=25)\n",
    "plt.tight_layout()\n",
    "plt.show()"
   ]
  },
  {
   "cell_type": "markdown",
   "id": "2f87b53c-7c4c-4092-9ebc-baf9698d068b",
   "metadata": {},
   "source": [
    "Conclusion: The Stock that would perform better in Upward Market is BCS because the BETA is higher (more volatile) and the Stock that would perform better in down-ward market is ULVR because the BETA is lower (less volatile)."
   ]
  },
  {
   "cell_type": "markdown",
   "id": "3928636c-308e-4b54-8726-b2693163efe3",
   "metadata": {},
   "source": [
    "5.\tRun F&F model for BCS and ULVR"
   ]
  },
  {
   "cell_type": "markdown",
   "id": "7e5f21b5-b30c-4c77-b1bf-2cbaf9894ea1",
   "metadata": {},
   "source": [
    "BCS with F&F Model"
   ]
  },
  {
   "cell_type": "code",
   "execution_count": 22,
   "id": "23ac190c-471a-47d6-9f3c-b12cd299ac30",
   "metadata": {},
   "outputs": [],
   "source": [
    "# Selecting the variables for regression analysis\n",
    "predictors = ['MP', 'SMB', 'HML', 'UMD']\n",
    "outcome = 'BRP'"
   ]
  },
  {
   "cell_type": "code",
   "execution_count": 23,
   "id": "260445a5-ad75-4343-af02-984cc9e1b313",
   "metadata": {},
   "outputs": [],
   "source": [
    "# Splitting the data\n",
    "X = pd.get_dummies(data[predictors], drop_first=True)\n",
    "y = data[outcome]\n",
    "train_X, valid_X, train_y, valid_y = train_test_split(X, y, test_size=0.4, random_state=1)"
   ]
  },
  {
   "cell_type": "code",
   "execution_count": 24,
   "id": "36e73d89-e564-4d7d-985c-9ccbf8349d65",
   "metadata": {},
   "outputs": [
    {
     "data": {
      "text/plain": [
       "LinearRegression()"
      ]
     },
     "execution_count": 24,
     "metadata": {},
     "output_type": "execute_result"
    }
   ],
   "source": [
    "# Fitting the data for regression\n",
    "returnbcss = LinearRegression()\n",
    "returnbcss.fit(train_X, train_y)"
   ]
  },
  {
   "cell_type": "code",
   "execution_count": 25,
   "id": "babf2b3c-8c19-46d4-83ee-53533f50d2d3",
   "metadata": {},
   "outputs": [
    {
     "name": "stdout",
     "output_type": "stream",
     "text": [
      "intercept  0.021816007694864935\n",
      "  Predictor  coefficient\n",
      "0        MP     1.897682\n",
      "1       SMB     1.977302\n",
      "2       HML    -0.073861\n",
      "3       UMD     0.462017\n"
     ]
    }
   ],
   "source": [
    "# Printing the coefficients\n",
    "print('intercept ', returnbcss.intercept_)\n",
    "print(pd.DataFrame({'Predictor': X.columns, 'coefficient': returnbcss.coef_}))"
   ]
  },
  {
   "cell_type": "code",
   "execution_count": 26,
   "id": "81f3dca8-e08b-4f0c-8c60-07ca4c57389c",
   "metadata": {},
   "outputs": [
    {
     "name": "stdout",
     "output_type": "stream",
     "text": [
      "R2 :  0.06162148649510246\n"
     ]
    }
   ],
   "source": [
    "# Printing the performance measures\n",
    "pred_y = returnbcss.predict(train_X)\n",
    "print('R2 : ',r2_score(train_y,pred_y))"
   ]
  },
  {
   "cell_type": "code",
   "execution_count": 27,
   "id": "34eb867f-2768-449d-af17-2fc796bed453",
   "metadata": {},
   "outputs": [
    {
     "name": "stdout",
     "output_type": "stream",
     "text": [
      "                            OLS Regression Results                            \n",
      "==============================================================================\n",
      "Dep. Variable:                    BRP   R-squared:                       0.062\n",
      "Model:                            OLS   Adj. R-squared:                  0.030\n",
      "Method:                 Least Squares   F-statistic:                     1.921\n",
      "Date:                Mon, 10 Apr 2023   Prob (F-statistic):              0.112\n",
      "Time:                        23:38:18   Log-Likelihood:                -49.490\n",
      "No. Observations:                 122   AIC:                             109.0\n",
      "Df Residuals:                     117   BIC:                             123.0\n",
      "Df Model:                           4                                         \n",
      "Covariance Type:            nonrobust                                         \n",
      "==============================================================================\n",
      "                 coef    std err          t      P>|t|      [0.025      0.975]\n",
      "------------------------------------------------------------------------------\n",
      "const          0.0218      0.037      0.592      0.555      -0.051       0.095\n",
      "MP             1.8977      0.944      2.010      0.047       0.028       3.767\n",
      "SMB            1.9773      1.159      1.706      0.091      -0.318       4.272\n",
      "HML           -0.0739      1.469     -0.050      0.960      -2.983       2.835\n",
      "UMD            0.4620      0.844      0.547      0.585      -1.210       2.134\n",
      "==============================================================================\n",
      "Omnibus:                      172.375   Durbin-Watson:                   1.987\n",
      "Prob(Omnibus):                  0.000   Jarque-Bera (JB):             7243.882\n",
      "Skew:                           5.438   Prob(JB):                         0.00\n",
      "Kurtosis:                      39.149   Cond. No.                         45.1\n",
      "==============================================================================\n",
      "\n",
      "Notes:\n",
      "[1] Standard Errors assume that the covariance matrix of the errors is correctly specified.\n"
     ]
    }
   ],
   "source": [
    "import statsmodels.api as sm\n",
    "\n",
    "#second way to create linear regression\n",
    "#add constant to predictor variables\n",
    "train_X1 = sm.add_constant(train_X)\n",
    "\n",
    "#fit linear regression model\n",
    "returnbcss1 = sm.OLS(train_y, train_X1).fit()\n",
    "\n",
    "#view model summary\n",
    "print(returnbcss1.summary())"
   ]
  },
  {
   "cell_type": "markdown",
   "id": "9066868a-7f8d-4523-82f8-86af98e483c6",
   "metadata": {},
   "source": [
    "ULVR with F&F Model"
   ]
  },
  {
   "cell_type": "code",
   "execution_count": 29,
   "id": "4a97f7a0-2f2f-4dcd-8fbe-f291975a3436",
   "metadata": {},
   "outputs": [],
   "source": [
    "# Selecting the variables for regression analysis\n",
    "predictors = ['MP', 'SMB', 'HML', 'UMD']\n",
    "outcome = 'URP'"
   ]
  },
  {
   "cell_type": "code",
   "execution_count": 30,
   "id": "e6b7809f-8c6d-451f-853e-17d9c6244926",
   "metadata": {},
   "outputs": [],
   "source": [
    "# Splitting the data\n",
    "X = pd.get_dummies(data[predictors], drop_first=True)\n",
    "y = data[outcome]\n",
    "train_X, valid_X, train_y, valid_y = train_test_split(X, y, test_size=0.4, random_state=1)"
   ]
  },
  {
   "cell_type": "code",
   "execution_count": 31,
   "id": "b7b2f95f-239a-4d2a-993c-20b46cf66dc9",
   "metadata": {},
   "outputs": [
    {
     "data": {
      "text/plain": [
       "LinearRegression()"
      ]
     },
     "execution_count": 31,
     "metadata": {},
     "output_type": "execute_result"
    }
   ],
   "source": [
    "# Fitting the data for regression\n",
    "returnulvrs = LinearRegression()\n",
    "returnulvrs.fit(train_X, train_y)"
   ]
  },
  {
   "cell_type": "code",
   "execution_count": 32,
   "id": "f0e90772-f8b9-47e6-afa0-acc683730eb9",
   "metadata": {},
   "outputs": [
    {
     "name": "stdout",
     "output_type": "stream",
     "text": [
      "intercept  0.0021453271532692574\n",
      "  Predictor  coefficient\n",
      "0        MP     0.970985\n",
      "1       SMB    -0.328639\n",
      "2       HML     0.128882\n",
      "3       UMD     0.470442\n"
     ]
    }
   ],
   "source": [
    "# Print the coefficients\n",
    "print('intercept ', returnulvrs.intercept_)\n",
    "print(pd.DataFrame({'Predictor': X.columns, 'coefficient': returnulvrs.coef_}))"
   ]
  },
  {
   "cell_type": "code",
   "execution_count": 33,
   "id": "643b7745-31c2-4002-a775-b1cca127578b",
   "metadata": {},
   "outputs": [
    {
     "name": "stdout",
     "output_type": "stream",
     "text": [
      "R2 :  0.19339158793860967\n"
     ]
    }
   ],
   "source": [
    "# Printing the performance measures\n",
    "pred_y = returnulvrs.predict(train_X)\n",
    "print('R2 : ',r2_score(train_y,pred_y))"
   ]
  },
  {
   "cell_type": "code",
   "execution_count": 34,
   "id": "ad457e44-b9bb-418c-b1aa-74303d09365d",
   "metadata": {},
   "outputs": [
    {
     "name": "stdout",
     "output_type": "stream",
     "text": [
      "                            OLS Regression Results                            \n",
      "==============================================================================\n",
      "Dep. Variable:                    URP   R-squared:                       0.193\n",
      "Model:                            OLS   Adj. R-squared:                  0.166\n",
      "Method:                 Least Squares   F-statistic:                     7.013\n",
      "Date:                Mon, 10 Apr 2023   Prob (F-statistic):           4.27e-05\n",
      "Time:                        23:38:19   Log-Likelihood:                 137.49\n",
      "No. Observations:                 122   AIC:                            -265.0\n",
      "Df Residuals:                     117   BIC:                            -251.0\n",
      "Df Model:                           4                                         \n",
      "Covariance Type:            nonrobust                                         \n",
      "==============================================================================\n",
      "                 coef    std err          t      P>|t|      [0.025      0.975]\n",
      "------------------------------------------------------------------------------\n",
      "const          0.0021      0.008      0.269      0.788      -0.014       0.018\n",
      "MP             0.9710      0.204      4.762      0.000       0.567       1.375\n",
      "SMB           -0.3286      0.250     -1.313      0.192      -0.824       0.167\n",
      "HML            0.1289      0.317      0.406      0.685      -0.499       0.757\n",
      "UMD            0.4704      0.182      2.580      0.011       0.109       0.832\n",
      "==============================================================================\n",
      "Omnibus:                       18.570   Durbin-Watson:                   1.972\n",
      "Prob(Omnibus):                  0.000   Jarque-Bera (JB):               84.695\n",
      "Skew:                          -0.167   Prob(JB):                     4.06e-19\n",
      "Kurtosis:                       7.068   Cond. No.                         45.1\n",
      "==============================================================================\n",
      "\n",
      "Notes:\n",
      "[1] Standard Errors assume that the covariance matrix of the errors is correctly specified.\n"
     ]
    }
   ],
   "source": [
    "import statsmodels.api as sm\n",
    "\n",
    "#second way to create linear regression\n",
    "#add constant to predictor variables\n",
    "train_X1 = sm.add_constant(train_X)\n",
    "\n",
    "#fit linear regression model\n",
    "returnulvrs1 = sm.OLS(train_y, train_X1).fit()\n",
    "\n",
    "#view model summary\n",
    "print(returnulvrs1.summary())"
   ]
  },
  {
   "cell_type": "markdown",
   "id": "4f35fe19-f391-4e2c-b7a9-d41734d8c1b1",
   "metadata": {},
   "source": [
    "Base on the R-Squared of CAPM Model and F&F Model, it can be concluded that F&F Model perform better since it has higher value that CAPM Model. Therefore, for BCS and ULVR the better model is F&F Model. "
   ]
  },
  {
   "cell_type": "markdown",
   "id": "a645a27b-f732-4c42-9a90-915809175b26",
   "metadata": {},
   "source": [
    "6.\tBased on the better model of each stock, calculate the residual between predictions and real values of return interests."
   ]
  },
  {
   "cell_type": "markdown",
   "id": "8cca06cd-e908-4444-853c-8d56706208e2",
   "metadata": {},
   "source": [
    "Since the better model for both stock is F&F Model, below is the residual and histogram BCS and ULVR using F&F Model"
   ]
  },
  {
   "cell_type": "code",
   "execution_count": 36,
   "id": "7d72b825-ab5e-42ca-ace5-8581c6893ab7",
   "metadata": {},
   "outputs": [
    {
     "name": "stdout",
     "output_type": "stream",
     "text": [
      "         Predicted    Actual  Residual\n",
      "Date                                  \n",
      "2011m5    0.017282  0.014500 -0.002783\n",
      "2017m9    0.051253 -0.037319 -0.088572\n",
      "2002m4    0.117765  0.114182 -0.003583\n",
      "2015m5    0.136233  0.014355 -0.121878\n",
      "2017m2    0.042575 -0.102425 -0.145000\n",
      "2003m5    0.184674 -0.118243 -0.302916\n",
      "2003m2    0.032026  0.050894  0.018868\n",
      "2004m2    0.087673  0.056988 -0.030685\n",
      "2008m9   -0.261658  0.026785  0.288443\n",
      "2004m11   0.088411  0.039782 -0.048628\n",
      "adjusted r2 :  -2.148737129265614\n"
     ]
    }
   ],
   "source": [
    "# Predicting the data\n",
    "returnbcss2 = returnbcss.predict(valid_X)\n",
    "\n",
    "result = pd.DataFrame({'Predicted': returnbcss2, 'Actual': valid_y,\n",
    "                       'Residual': valid_y - returnbcss2})\n",
    "print(result.head(10))\n",
    "print('adjusted r2 : ',r2_score(valid_y,returnbcss2))"
   ]
  },
  {
   "cell_type": "code",
   "execution_count": 37,
   "id": "483cdd8f-668b-428b-bbe8-465c49dcf9fc",
   "metadata": {},
   "outputs": [
    {
     "name": "stdout",
     "output_type": "stream",
     "text": [
      "1.0\n"
     ]
    },
    {
     "data": {
      "image/png": "[encoded data removed]",
      "text/plain": [
       "<Figure size 432x288 with 1 Axes>"
      ]
     },
     "metadata": {
      "needs_background": "light"
     },
     "output_type": "display_data"
    }
   ],
   "source": [
    "# Calculating the residuals\n",
    "all_residuals = valid_y - returnbcss2\n",
    "print(len(all_residuals[(all_residuals > -1445) & (all_residuals < 1445)]) / len(all_residuals))\n",
    "ax = pd.DataFrame({'Residuals': all_residuals}).hist(bins=25)\n",
    "plt.tight_layout()\n",
    "plt.show()"
   ]
  },
  {
   "cell_type": "code",
   "execution_count": 38,
   "id": "f8850914-3e84-441f-8a38-6fd8c8ffbd4d",
   "metadata": {},
   "outputs": [
    {
     "name": "stdout",
     "output_type": "stream",
     "text": [
      "         Predicted    Actual  Residual\n",
      "Date                                  \n",
      "2011m5   -0.020608  0.014500  0.035107\n",
      "2017m9   -0.022186 -0.037319 -0.015133\n",
      "2002m4   -0.001635  0.114182  0.115817\n",
      "2015m5    0.011715  0.014355  0.002640\n",
      "2017m2    0.020501 -0.102425 -0.122925\n",
      "2003m5   -0.000583 -0.118243 -0.117660\n",
      "2003m2    0.057582  0.050894 -0.006688\n",
      "2004m2    0.038964  0.056988  0.018024\n",
      "2008m9   -0.141931  0.026785  0.168716\n",
      "2004m11   0.029345  0.039782  0.010438\n",
      "adjusted r2 :  -0.20887636321519976\n"
     ]
    }
   ],
   "source": [
    "# Predicting the data\n",
    "returnulvrs2 = returnulvrs.predict(valid_X)\n",
    "\n",
    "result = pd.DataFrame({'Predicted': returnulvrs2, 'Actual': valid_y,\n",
    "                       'Residual': valid_y - returnulvrs2})\n",
    "print(result.head(10))\n",
    "print('adjusted r2 : ',r2_score(valid_y,returnulvrs2))"
   ]
  },
  {
   "cell_type": "code",
   "execution_count": 39,
   "id": "dbf81dc1-d884-406a-8ae7-591073845349",
   "metadata": {},
   "outputs": [
    {
     "name": "stdout",
     "output_type": "stream",
     "text": [
      "1.0\n"
     ]
    },
    {
     "data": {
      "image/png": "[encoded data removed]",
      "text/plain": [
       "<Figure size 432x288 with 1 Axes>"
      ]
     },
     "metadata": {
      "needs_background": "light"
     },
     "output_type": "display_data"
    }
   ],
   "source": [
    "# Calculating the residuals\n",
    "all_residuals = valid_y - returnulvrs2\n",
    "print(len(all_residuals[(all_residuals > -1445) & (all_residuals < 1445)]) / len(all_residuals))\n",
    "ax = pd.DataFrame({'Residuals': all_residuals}).hist(bins=25)\n",
    "plt.tight_layout()\n",
    "plt.show()"
   ]
  },
  {
   "cell_type": "code",
   "execution_count": null,
   "id": "3942bccf-8bfb-4dae-b815-ee66f5d13725",
   "metadata": {},
   "outputs": [],
   "source": []
  }
 ],
 "metadata": {
  "kernelspec": {
   "display_name": "Python 3 (ipykernel)",
   "language": "python",
   "name": "python3"
  },
  "language_info": {
   "codemirror_mode": {
    "name": "ipython",
    "version": 3
   },
   "file_extension": ".py",
   "mimetype": "text/x-python",
   "name": "python",
   "nbconvert_exporter": "python",
   "pygments_lexer": "ipython3",
   "version": "3.9.12"
  }
 },
 "nbformat": 4,
 "nbformat_minor": 5
}
